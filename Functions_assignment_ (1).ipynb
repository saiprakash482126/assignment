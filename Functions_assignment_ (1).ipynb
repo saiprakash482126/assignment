{
  "nbformat": 4,
  "nbformat_minor": 0,
  "metadata": {
    "colab": {
      "provenance": []
    },
    "kernelspec": {
      "name": "python3",
      "display_name": "Python 3"
    },
    "language_info": {
      "name": "python"
    }
  },
  "cells": [
    {
      "cell_type": "markdown",
      "source": [
        "*1.Which keyword is used to create a function? Create a function to return a list of odd numbers in the\n",
        "range of 1 to 25.*"
      ],
      "metadata": {
        "id": "ZsA0nZZ2UZBe"
      }
    },
    {
      "cell_type": "markdown",
      "source": [
        "sol:\n",
        "\n",
        "def odd_numbers():\n",
        "    return [num for num in range(1, 26) if num % 2 != 0]\n",
        "\n",
        "result = odd_numbers()\n",
        "print(result)\n",
        "\n",
        "\n",
        "output:\n",
        "[1, 3, 5, 7, 9, 11, 13, 15, 17, 19, 21, 23, 25]\n"
      ],
      "metadata": {
        "id": "iYXtWYfbUe5e"
      }
    },
    {
      "cell_type": "markdown",
      "source": [
        " 2.Why *args and **kwargs is used in some functions? Create a function each for *args and **kwargs to\n",
        "demonstrate their use.*"
      ],
      "metadata": {
        "id": "ClPor66uU8Bk"
      }
    },
    {
      "cell_type": "markdown",
      "source": [
        "sol:\n",
        "\n",
        "def show_args(args):\n",
        "    for arg in args:\n",
        "        print(arg)\n",
        "\n",
        "show_args(1, 2, 'three', [4, 5])\n",
        "\n",
        "output:\n",
        "\n",
        "1\n",
        "2\n",
        "three\n",
        "[4, 5]\n"
      ],
      "metadata": {
        "id": "CSPC7sXqVN4f"
      }
    },
    {
      "cell_type": "markdown",
      "source": [
        "3.What is an iterator in python? Name the method used to initialise the iterator object and the method\n",
        "used for iteration. Use these methods to print the first five elements of the given list [2, 4, 6, 8, 10, 12, 14, 16,\n",
        "18, 20]."
      ],
      "metadata": {
        "id": "TuUhsmxwVuUH"
      }
    },
    {
      "cell_type": "markdown",
      "source": [
        "sol:\n",
        "\n",
        "my_list = [2, 4, 6, 8, 10, 12, 14, 16, 18, 20]\n",
        "\n",
        "my_iter = iter(my_list)\n",
        "\n",
        "for _ in range(5):\n",
        "\n",
        "  print(next(my_iter))\n",
        "\n",
        "  output\n",
        "  \n",
        "2\n",
        "4\n",
        "6\n",
        "8\n",
        "10"
      ],
      "metadata": {
        "id": "lwW4OBsuVzMG"
      }
    },
    {
      "cell_type": "markdown",
      "source": [
        "4.What is a generator function in python? Why yield keyword is used? Give an example of a generator\n",
        "function."
      ],
      "metadata": {
        "id": "921dOMK7Wl6u"
      }
    },
    {
      "cell_type": "markdown",
      "source": [
        "A generator function in Python is a special type of function that allows you to iterate over a potentially large sequence of data without creating the entire sequence in memory. It uses the yield keyword to produce a series of values one at a time, and it maintains its state between calls.\n",
        "\n",
        "The yield keyword is used to temporarily suspend the function's state and provide a value to the caller. When the generator is iterated over, the function is executed until it encounters a yield statement. At that point, the function's state is saved, and the yielded value is returned. The next time the generator is iterated, it resumes execution right after the yield statement, with its previous state intact.\n",
        "\n",
        "\n",
        "\n",
        "def square_generator(limit):\n",
        "\n",
        "  for num in range(1, limit + 1):\n",
        "      yield num ** 2\n",
        "\n",
        "for square in square_generator(5):\n",
        "\n",
        "print(square)\n",
        "\n",
        "\n",
        "output:\n",
        "1\n",
        "4\n",
        "9\n",
        "16\n",
        "25\n",
        "\n"
      ],
      "metadata": {
        "id": "2AoSMsbiW0kD"
      }
    },
    {
      "cell_type": "markdown",
      "source": [
        "5.Create a generator function for prime numbers less than 1000. Use the next() method to print the\n",
        "first 20 prime numbers.\n"
      ],
      "metadata": {
        "id": "8c1-23q1XrCm"
      }
    },
    {
      "cell_type": "markdown",
      "source": [
        "def generate_primes():\n",
        "    primes = []\n",
        "    num = 2\n",
        "    while True:\n",
        "        is_prime = all(num % prime != 0 for prime in primes)\n",
        "        if is_prime and num < 1000:\n",
        "            yield num\n",
        "            primes.append(num)\n",
        "            num += 1\n",
        "\n",
        "prime_generator = generate_primes()\n",
        "\n",
        "for _ in range(20):\n",
        "    print(next(prime_generator))\n",
        "\n",
        "ouput:\n",
        "2\n",
        "3\n",
        "5\n",
        "7\n",
        "11\n",
        "13\n",
        "17\n",
        "19\n",
        "23\n",
        "29\n",
        "31\n",
        "37\n",
        "41\n",
        "43\n",
        "47\n",
        "53\n",
        "59\n",
        "61\n",
        "67\n",
        "71\n"
      ],
      "metadata": {
        "id": "cB4WcaLKXv_v"
      }
    }
  ]
}